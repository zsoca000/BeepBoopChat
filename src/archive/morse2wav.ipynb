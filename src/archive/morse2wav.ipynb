{
 "cells": [
  {
   "cell_type": "code",
   "execution_count": 5,
   "id": "85bbb66f-8787-41df-ad04-1cb3666d38a5",
   "metadata": {},
   "outputs": [
    {
     "name": "stdout",
     "output_type": "stream",
     "text": [
      "WAV file generated: morse_output.wav\n"
     ]
    }
   ],
   "source": [
    "import numpy as np\n",
    "import wave\n",
    "\n",
    "def morse_to_wav(morse_code, filename='output.wav', wpm=20, freq=600, sample_rate=44100):\n",
    "    # Timing based on WPM\n",
    "    dot_duration = 1.2 / wpm           # in seconds\n",
    "    dash_duration = 3 * dot_duration\n",
    "    intra_char_space = dot_duration\n",
    "    inter_char_space = 3 * dot_duration\n",
    "    inter_word_space = 7 * dot_duration\n",
    "\n",
    "    def tone(duration):\n",
    "        t = np.linspace(0, duration, int(sample_rate * duration), False)\n",
    "        return 0.5 * np.sin(2 * np.pi * freq * t)\n",
    "\n",
    "    def silence(duration):\n",
    "        return np.zeros(int(sample_rate * duration))\n",
    "\n",
    "    audio = np.array([], dtype=np.float32)\n",
    "    for word in morse_code.strip().split(' / '):\n",
    "        for char in word.split(' '):\n",
    "            for symbol in char:\n",
    "                if symbol == '.':\n",
    "                    audio = np.concatenate((audio, tone(dot_duration)))\n",
    "                elif symbol == '-':\n",
    "                    audio = np.concatenate((audio, tone(dash_duration)))\n",
    "                audio = np.concatenate((audio, silence(intra_char_space)))\n",
    "            audio = np.concatenate((audio, silence(inter_char_space - intra_char_space)))\n",
    "        audio = np.concatenate((audio, silence(inter_word_space - inter_char_space)))\n",
    "\n",
    "    # Normalize and save\n",
    "    audio = np.int16(audio * 32767)\n",
    "    with wave.open(filename, 'w') as wf:\n",
    "        wf.setnchannels(1)\n",
    "        wf.setsampwidth(2)\n",
    "        wf.setframerate(sample_rate)\n",
    "        wf.writeframes(audio.tobytes())\n",
    "\n",
    "    print(f\"WAV file generated: {filename}\")\n",
    "\n",
    "# Example usage\n",
    "morse_to_wav('-.-. ... --- / --.. ... --- -.-. .- / -- .. / .- / .... . .-.. -.-- --.. . - ..--..')\n"
   ]
  }
 ],
 "metadata": {
  "kernelspec": {
   "display_name": "Python 3",
   "language": "python",
   "name": "python3"
  },
  "language_info": {
   "codemirror_mode": {
    "name": "ipython",
    "version": 3
   },
   "file_extension": ".py",
   "mimetype": "text/x-python",
   "name": "python",
   "nbconvert_exporter": "python",
   "pygments_lexer": "ipython3",
   "version": "3.11.8"
  }
 },
 "nbformat": 4,
 "nbformat_minor": 5
}
