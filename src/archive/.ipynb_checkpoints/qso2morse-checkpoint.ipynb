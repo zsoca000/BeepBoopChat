{
 "cells": [
  {
   "cell_type": "code",
   "execution_count": 7,
   "id": "dceaee51-0beb-4a38-aeee-9c3b8122ee30",
   "metadata": {},
   "outputs": [
    {
     "name": "stdout",
     "output_type": "stream",
     "text": [
      "-.-. ... --- / --.. ... --- -.-. .- / -- .. / .- / .... . .-.. -.-- --.. . - ..--..\n"
     ]
    }
   ],
   "source": [
    "def text_to_morse(text):\n",
    "    morse_code_dict = {\n",
    "        'A': '.-', 'B': '-...', 'C': '-.-.', 'D': '-..', 'E': '.', 'F': '..-.',\n",
    "        'G': '--.', 'H': '....', 'I': '..', 'J': '.---', 'K': '-.-', 'L': '.-..',\n",
    "        'M': '--', 'N': '-.', 'O': '---', 'P': '.--.', 'Q': '--.-', 'R': '.-.',\n",
    "        'S': '...', 'T': '-', 'U': '..-', 'V': '...-', 'W': '.--', 'X': '-..-',\n",
    "        'Y': '-.--', 'Z': '--..',\n",
    "        'a': '.-', 'b': '-...', 'c': '-.-.', 'd': '-..', 'e': '.', 'f': '..-.',\n",
    "        'g': '--.', 'h': '....', 'i': '..', 'j': '.---', 'k': '-.-', 'l': '.-..',\n",
    "        'm': '--', 'n': '-.', 'o': '---', 'p': '.--.', 'q': '--.-', 'r': '.-.',\n",
    "        's': '...', 't': '-', 'u': '..-', 'v': '...-', 'w': '.--', 'x': '-..-',\n",
    "        'y': '-.--', 'z': '--..',\n",
    "        '0': '-----', '1': '.----', '2': '..---', '3': '...--', '4': '....-',\n",
    "        '5': '.....', '6': '-....', '7': '--...', '8': '---..', '9': '----.',\n",
    "        '.': '.-.-.-', ',': '--..--', '?': '..--..', \"'\": '.----.', '!': '-.-.--',\n",
    "        '/': '-..-.', '(': '-.--.', ')': '-.--.-', '&': '.-...', ':': '---...',\n",
    "        ';': '-.-.-.', '=': '-...-', '+': '.-.-.', '-': '-....-', '_': '..--.-',\n",
    "        '\"': '.-..-.', '$': '...-..-', '@': '.--.-.', ' ': '/'\n",
    "    }\n",
    "    \n",
    "    morse_code = ' '.join(morse_code_dict[char] for char in text if char in morse_code_dict)\n",
    "    return morse_code\n",
    "\n",
    "# Example usage:\n",
    "input_text = \"Cso Zsoca mi a helyzet?\"\n",
    "output_morse = text_to_morse(input_text)\n",
    "print(output_morse)\n"
   ]
  }
 ],
 "metadata": {
  "kernelspec": {
   "display_name": "Python 3 (ipykernel)",
   "language": "python",
   "name": "python3"
  },
  "language_info": {
   "codemirror_mode": {
    "name": "ipython",
    "version": 3
   },
   "file_extension": ".py",
   "mimetype": "text/x-python",
   "name": "python",
   "nbconvert_exporter": "python",
   "pygments_lexer": "ipython3",
   "version": "3.10.0"
  }
 },
 "nbformat": 4,
 "nbformat_minor": 5
}
